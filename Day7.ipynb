{
  "nbformat": 4,
  "nbformat_minor": 0,
  "metadata": {
    "colab": {
      "name": "Day7",
      "provenance": [],
      "collapsed_sections": [],
      "toc_visible": true,
      "mount_file_id": "1-6YHuOk-6OuWa9O7yFyPRZ4DfsqQ8CXd",
      "authorship_tag": "ABX9TyNXnEtcKXpjbECrH+oAnBHT",
      "include_colab_link": true
    },
    "kernelspec": {
      "name": "python3",
      "display_name": "Python 3"
    },
    "language_info": {
      "name": "python"
    }
  },
  "cells": [
    {
      "cell_type": "markdown",
      "metadata": {
        "id": "view-in-github",
        "colab_type": "text"
      },
      "source": [
        "<a href=\"https://colab.research.google.com/github/AnnyangEH/AnnyangEH/blob/main/Day7.ipynb\" target=\"_parent\"><img src=\"https://colab.research.google.com/assets/colab-badge.svg\" alt=\"Open In Colab\"/></a>"
      ]
    },
    {
      "cell_type": "code",
      "metadata": {
        "id": "JYEB3906mEGC",
        "colab": {
          "base_uri": "https://localhost:8080/",
          "height": 53
        },
        "outputId": "c4c14113-ca88-488d-8fae-e8c66f18cc64"
      },
      "source": [
        "\"\"\"\n",
        "7일 동안 파이썬 마스터하기! 도전 7과 (21.06.06)\n",
        "'왕초보를 위한 Python'의 wikidocs 를 통해서 공부합니당\n",
        "첫 단계인 만큼 추후 목표는 머신러닝을 파이썬을 통해 공부할 것이고\n",
        "7일 동안 파이썬과 익숙해지면 나만의 게임도 만들거임\n",
        "\"\"\""
      ],
      "execution_count": 30,
      "outputs": [
        {
          "output_type": "execute_result",
          "data": {
            "application/vnd.google.colaboratory.intrinsic+json": {
              "type": "string"
            },
            "text/plain": [
              "\"\\n7일 동안 파이썬 마스터하기! 도전 7과 (21.06.06)\\n'왕초보를 위한 Python'의 wikidocs 를 통해서 공부합니당\\n첫 단계인 만큼 추후 목표는 머신러닝을 파이썬을 통해 공부할 것이고\\n7일 동안 파이썬과 익숙해지면 나만의 게임도 만들거임\\n\""
            ]
          },
          "metadata": {
            "tags": []
          },
          "execution_count": 30
        }
      ]
    },
    {
      "cell_type": "markdown",
      "metadata": {
        "id": "Tw7FkGIkm8M0"
      },
      "source": [
        "6과는 파일과 관련된 챕터인데 코랩에서는 다룰 수 없어 \n",
        "\n",
        "눈으로만 읽고 7과로 넘어감"
      ]
    },
    {
      "cell_type": "markdown",
      "metadata": {
        "id": "zldIJwkcxnzF"
      },
      "source": [
        "# 변수와 메서드"
      ]
    },
    {
      "cell_type": "code",
      "metadata": {
        "colab": {
          "base_uri": "https://localhost:8080/",
          "height": 35
        },
        "id": "3-_-epfxnDML",
        "outputId": "89fc84fe-a61a-4c11-a1e0-b57d80ad50be"
      },
      "source": [
        "class Singer:           #클래스를 정의\n",
        "    def sing(self):     #노래 메소드\n",
        "        return \"lala-li-lala\"\n",
        "\n",
        "eunho = Singer()        #은호\n",
        "eunho.sing()            #은호 노래 불러랏"
      ],
      "execution_count": 31,
      "outputs": [
        {
          "output_type": "execute_result",
          "data": {
            "application/vnd.google.colaboratory.intrinsic+json": {
              "type": "string"
            },
            "text/plain": [
              "'lala-li-lala'"
            ]
          },
          "metadata": {
            "tags": []
          },
          "execution_count": 31
        }
      ]
    },
    {
      "cell_type": "code",
      "metadata": {
        "colab": {
          "base_uri": "https://localhost:8080/",
          "height": 53
        },
        "id": "A6P9M9g3oWTT",
        "outputId": "02b31d06-7e39-4874-ba06-91f6be2702a0"
      },
      "source": [
        "'''\n",
        "내가 이해한 클래스와 인스턴스는 클래스는 특정 그룹? 그 부분? 같은 느낌임\n",
        "예시로 가수 라고 했을때 수많은 가수가 있지만 그 중 저스틴비버나 내가 좋아하는 윤딴딴\n",
        "이라고 했을때 인스턴스(실체)로 볼 수 있는 거임\n",
        "이 때 가수가 클래스고 특정 가수가 인스턴스\n",
        "'''"
      ],
      "execution_count": 32,
      "outputs": [
        {
          "output_type": "execute_result",
          "data": {
            "application/vnd.google.colaboratory.intrinsic+json": {
              "type": "string"
            },
            "text/plain": [
              "'\\n내가 이해한 클래스와 인스턴스는 클래스는 특정 그룹? 그 부분? 같은 느낌임\\n예시로 가수 라고 했을때 수많은 가수가 있지만 그 중 저스틴비버나 내가 좋아하는 윤딴딴\\n이라고 했을때 인스턴스(실체)로 볼 수 있는 거임\\n이 때 가수가 클래스고 특정 가수가 인스턴스\\n'"
            ]
          },
          "metadata": {
            "tags": []
          },
          "execution_count": 32
        }
      ]
    },
    {
      "cell_type": "markdown",
      "metadata": {
        "id": "Faf7Awtftg6p"
      },
      "source": [
        "**self**\n",
        "\n",
        "self 는 그 클래스의 객체를 뜻하는데 예를들어 솔져 1과 솔져 76이 똑같은 helixRocket()이라는 함수와 run()이라는 함수를 가지기 때문에 서로 구분하기 위해 사용됩니다.\n",
        "\n",
        "한 마디로 메서드를 정의할 때는 항상 self라는 인자를 씀\n"
      ]
    },
    {
      "cell_type": "code",
      "metadata": {
        "id": "9EGctyY_o7jI"
      },
      "source": [
        "class Noobsoldier:\n",
        "    hp = 200\n",
        "    dmg = 20\n",
        "    spd = 35\n",
        "    def helixRocket(self):      \n",
        "        self.hp -= 10\n",
        "        self.dmg += 40\n",
        "    def run():\n",
        "        self.spd += 1"
      ],
      "execution_count": 33,
      "outputs": []
    },
    {
      "cell_type": "code",
      "metadata": {
        "id": "N6EiB8ZGwGs4"
      },
      "source": [
        "soldier1 = Noobsoldier()\n",
        "soldier1.helixRocket()"
      ],
      "execution_count": 34,
      "outputs": []
    },
    {
      "cell_type": "code",
      "metadata": {
        "colab": {
          "base_uri": "https://localhost:8080/"
        },
        "id": "BvTNqrR_wL_B",
        "outputId": "ba362a6c-7f6e-40e7-ee0d-d53ff5d913d0"
      },
      "source": [
        "soldier1.hp"
      ],
      "execution_count": 35,
      "outputs": [
        {
          "output_type": "execute_result",
          "data": {
            "text/plain": [
              "190"
            ]
          },
          "metadata": {
            "tags": []
          },
          "execution_count": 35
        }
      ]
    },
    {
      "cell_type": "code",
      "metadata": {
        "colab": {
          "base_uri": "https://localhost:8080/"
        },
        "id": "FMqvjdXswSxX",
        "outputId": "87ac2d14-dcfe-4717-8fe7-e486abaa53b9"
      },
      "source": [
        "soldier1.dmg"
      ],
      "execution_count": 36,
      "outputs": [
        {
          "output_type": "execute_result",
          "data": {
            "text/plain": [
              "60"
            ]
          },
          "metadata": {
            "tags": []
          },
          "execution_count": 36
        }
      ]
    },
    {
      "cell_type": "markdown",
      "metadata": {
        "id": "hX8Hk4QJxthr"
      },
      "source": [
        "# 상속"
      ]
    },
    {
      "cell_type": "code",
      "metadata": {
        "id": "2-fwXszqxN7B",
        "colab": {
          "base_uri": "https://localhost:8080/",
          "height": 35
        },
        "outputId": "5fc4f8f8-f633-492b-bb26-2ba93e8afdbb"
      },
      "source": [
        "'''\n",
        "상속(inheritance) 고등학교때 배워본 상속은 기억으론 객체지향 언어에서 특정 클래스의 특징을 말 그대로\n",
        "상속(받아온다?)오는 느낌이었는데 이번에 또 배우게 됐넹 ㅎ\n",
        "'''"
      ],
      "execution_count": 37,
      "outputs": [
        {
          "output_type": "execute_result",
          "data": {
            "application/vnd.google.colaboratory.intrinsic+json": {
              "type": "string"
            },
            "text/plain": [
              "'\\n상속(inheritance) 고등학교때 배워본 상속은 기억으론 객체지향 언어에서 특정 클래스의 특징을 말 그대로\\n상속(받아온다?)오는 느낌이었는데 이번에 또 배우게 됐넹 ㅎ\\n'"
            ]
          },
          "metadata": {
            "tags": []
          },
          "execution_count": 37
        }
      ]
    },
    {
      "cell_type": "code",
      "metadata": {
        "id": "JQ8BMviOyuPY"
      },
      "source": [
        "class Overwatch:\n",
        "    hp = 200    #기본 체력\n",
        "    spd = 20    #기본 이속\n",
        "    mtk = 30  #근접 공격\n",
        "    def atk():\n",
        "        print('빵야')\n",
        "\n",
        "    def melee():\n",
        "        print('퍽!')\n",
        "\n",
        "    def eat():\n",
        "        print('궁극기 냠냠')"
      ],
      "execution_count": 38,
      "outputs": []
    },
    {
      "cell_type": "code",
      "metadata": {
        "id": "LP5FolKl0WxA"
      },
      "source": [
        "class genji(Overwatch):     #overwatch 클래스를 상속받음\n",
        "    def ting():\n",
        "        print('튕겨냈다!')  "
      ],
      "execution_count": 39,
      "outputs": []
    },
    {
      "cell_type": "code",
      "metadata": {
        "colab": {
          "base_uri": "https://localhost:8080/"
        },
        "id": "UzsUrBdZ0jkJ",
        "outputId": "04825cf9-9658-4bc9-b011-edcec0a308e6"
      },
      "source": [
        "genji.hp"
      ],
      "execution_count": 40,
      "outputs": [
        {
          "output_type": "execute_result",
          "data": {
            "text/plain": [
              "200"
            ]
          },
          "metadata": {
            "tags": []
          },
          "execution_count": 40
        }
      ]
    },
    {
      "cell_type": "code",
      "metadata": {
        "colab": {
          "base_uri": "https://localhost:8080/"
        },
        "id": "lSRhud110xnO",
        "outputId": "b5897b3b-a187-4ca5-b53a-3d4b965d6bf6"
      },
      "source": [
        "genji.spd"
      ],
      "execution_count": 41,
      "outputs": [
        {
          "output_type": "execute_result",
          "data": {
            "text/plain": [
              "20"
            ]
          },
          "metadata": {
            "tags": []
          },
          "execution_count": 41
        }
      ]
    },
    {
      "cell_type": "code",
      "metadata": {
        "colab": {
          "base_uri": "https://localhost:8080/"
        },
        "id": "DwP3J0vT05A7",
        "outputId": "3d27c6d0-ac5c-4dbd-8b73-186efdedde66"
      },
      "source": [
        "genji.mtk"
      ],
      "execution_count": 42,
      "outputs": [
        {
          "output_type": "execute_result",
          "data": {
            "text/plain": [
              "30"
            ]
          },
          "metadata": {
            "tags": []
          },
          "execution_count": 42
        }
      ]
    },
    {
      "cell_type": "code",
      "metadata": {
        "colab": {
          "base_uri": "https://localhost:8080/"
        },
        "id": "R47HcoNO06PW",
        "outputId": "0723d028-8949-432b-a3c2-b84449639bb4"
      },
      "source": [
        "genji.eat()"
      ],
      "execution_count": 43,
      "outputs": [
        {
          "output_type": "stream",
          "text": [
            "궁극기 냠냠\n"
          ],
          "name": "stdout"
        }
      ]
    },
    {
      "cell_type": "markdown",
      "metadata": {
        "id": "FXdTvWvF_cHn"
      },
      "source": [
        "# 특별한 메서드들"
      ]
    },
    {
      "cell_type": "markdown",
      "metadata": {
        "id": "1G88iGoqBBEz"
      },
      "source": [
        "**ㅡinitㅡ 메서드 (초기화)**"
      ]
    },
    {
      "cell_type": "code",
      "metadata": {
        "id": "V3G9ftVB5DtE"
      },
      "source": [
        "class Book:\n",
        "\n",
        "    def setData(self, title, price, author):\n",
        "        self.title = title\n",
        "        self.price = price\n",
        "        self.author = author\n",
        "\n",
        "    def printData(self):\n",
        "        print('제목 : ', self.title)\n",
        "        print('가격 : ', self.price)\n",
        "        print('저자 : ', self.author)\n",
        "    \n",
        "    def __init__(self):\n",
        "        print('책 객체를 새로 만들었어요~')  #어떤 클래스의 객체가 만들어질 때 자동으로 호출되어서 그 객체가 갖게 될 여러 가지 성질을 정해주는 일을 함"
      ],
      "execution_count": 44,
      "outputs": []
    },
    {
      "cell_type": "code",
      "metadata": {
        "id": "IRYLX2xy4mLN",
        "colab": {
          "base_uri": "https://localhost:8080/"
        },
        "outputId": "a59bc1f2-ab91-4964-84c5-a0f64785e5d8"
      },
      "source": [
        "import sys\n",
        "sys.path.append('/content/drive/MyDrive/Colab Notebooks')\n",
        "print(sys.path)"
      ],
      "execution_count": 45,
      "outputs": [
        {
          "output_type": "stream",
          "text": [
            "['', '/content', '/env/python', '/usr/lib/python37.zip', '/usr/lib/python3.7', '/usr/lib/python3.7/lib-dynload', '/usr/local/lib/python3.7/dist-packages', '/usr/lib/python3/dist-packages', '/usr/local/lib/python3.7/dist-packages/IPython/extensions', '/root/.ipython', '/content/drive/MyDrive/Colab Notebooks', '/content/drive/MyDrive/Colab Notebooks', '/content/drive/MyDrive/Colab Notebooks', '/content/drive/MyDrive/Colab Notebooks']\n"
          ],
          "name": "stdout"
        }
      ]
    },
    {
      "cell_type": "code",
      "metadata": {
        "colab": {
          "base_uri": "https://localhost:8080/",
          "height": 190
        },
        "id": "-Ws8KzSs6R3Q",
        "outputId": "48d0b9a4-2d61-4d33-d8ab-2ea5cad10b46"
      },
      "source": [
        "import day7\n",
        "b = day7.Book()"
      ],
      "execution_count": 49,
      "outputs": [
        {
          "output_type": "error",
          "ename": "AttributeError",
          "evalue": "ignored",
          "traceback": [
            "\u001b[0;31m---------------------------------------------------------------------------\u001b[0m",
            "\u001b[0;31mAttributeError\u001b[0m                            Traceback (most recent call last)",
            "\u001b[0;32m<ipython-input-49-43221e813317>\u001b[0m in \u001b[0;36m<module>\u001b[0;34m()\u001b[0m\n\u001b[1;32m      1\u001b[0m \u001b[0;32mimport\u001b[0m \u001b[0mday7\u001b[0m\u001b[0;34m\u001b[0m\u001b[0;34m\u001b[0m\u001b[0m\n\u001b[0;32m----> 2\u001b[0;31m \u001b[0mb\u001b[0m \u001b[0;34m=\u001b[0m \u001b[0mday7\u001b[0m\u001b[0;34m.\u001b[0m\u001b[0mBook\u001b[0m\u001b[0;34m(\u001b[0m\u001b[0;34m)\u001b[0m\u001b[0;34m\u001b[0m\u001b[0;34m\u001b[0m\u001b[0m\n\u001b[0m",
            "\u001b[0;31mAttributeError\u001b[0m: module 'day7' has no attribute 'Book'"
          ]
        }
      ]
    },
    {
      "cell_type": "markdown",
      "metadata": {
        "id": "Aost3Rxk9X4r"
      },
      "source": [
        "**ㅡdelㅡ 메서드 (소멸자)**\n",
        "\n",
        "ㅡinitㅡ 메서드와 반대로 객체가 없어질 때 호출되는 메서드도 있습니다. 이런 것을\n",
        "\n",
        "소멸자(destructor)라고 하는데, 파이썬에서는 ㅡdelㅡ 메서드가 소멸자의 역할을 \n",
        "\n",
        "맡고 있죠.\n",
        "\n",
        "객체가 없어지는 수도 있냐구요? 뭐하려고 없애냐구요? del 문을 사용해보세요. 당장 \n",
        "\n",
        "없어집니다. 또, 만들어 둔 객체가 더 이상 필요 없어지면 파이썬이 알아서 \n",
        "\n",
        "처리해주기도 하구요.\n",
        "\n",
        "그건 직접 ㅡdelㅡ 메서드를 만들어서 테스트해보시면 잘 아실 수 있겠죠? 그냥 다른 \n",
        "\n",
        "메서드와 똑같이 작성하시면 됩니다.\n",
        "\n",
        "\n",
        "어떤 객체가 없어지기 전에 뭔가 처리를 필요로 한다면 소멸자가 유용하게 \n",
        "\n",
        "\n",
        "쓰이겠지요?"
      ]
    },
    {
      "cell_type": "code",
      "metadata": {
        "id": "DVyA4TK66YYR"
      },
      "source": [
        ""
      ],
      "execution_count": 46,
      "outputs": []
    }
  ]
}